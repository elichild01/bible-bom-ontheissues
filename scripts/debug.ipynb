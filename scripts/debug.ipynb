{
 "cells": [
  {
   "cell_type": "code",
   "execution_count": 18,
   "metadata": {},
   "outputs": [],
   "source": [
    "import os\n",
    "import pandas as pd\n",
    "from dotenv import load_dotenv\n",
    "load_dotenv()\n",
    "import concordance\n",
    "from importlib import reload\n",
    "reload(concordance)\n",
    "from concordance import *"
   ]
  },
  {
   "cell_type": "code",
   "execution_count": 23,
   "metadata": {},
   "outputs": [],
   "source": [
    "# get_llm_ratings(\"After He was resurrected, Jesus ate fish and honey with His apostles.\",\n",
    "#                 \"Does God have a body?\",\n",
    "#                 [\"No, God is everywhere and nowhere, big enough to fill the universe but small enough to fit inside your heart.\",\n",
    "#                 \"Yes, God is our loving Heavenly Father, and men and women are created in His image.\"])"
   ]
  },
  {
   "cell_type": "code",
   "execution_count": 24,
   "metadata": {},
   "outputs": [],
   "source": [
    "# parse_verses(\"../data/bible_filtered.txt\", True)\n",
    "# parse_verses(\"../data/bom_filtered.txt\", False)"
   ]
  },
  {
   "cell_type": "code",
   "execution_count": null,
   "metadata": {},
   "outputs": [],
   "source": []
  }
 ],
 "metadata": {
  "kernelspec": {
   "display_name": "Python 3",
   "language": "python",
   "name": "python3"
  },
  "language_info": {
   "codemirror_mode": {
    "name": "ipython",
    "version": 3
   },
   "file_extension": ".py",
   "mimetype": "text/x-python",
   "name": "python",
   "nbconvert_exporter": "python",
   "pygments_lexer": "ipython3",
   "version": "3.12.1"
  }
 },
 "nbformat": 4,
 "nbformat_minor": 2
}
